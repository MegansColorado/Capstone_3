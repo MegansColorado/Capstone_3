{
 "cells": [
  {
   "cell_type": "code",
   "execution_count": 2,
   "metadata": {},
   "outputs": [],
   "source": [
    "import numpy as np \n",
    "import pandas as pd\n",
    "from tensorflow import keras\n",
    "#import matplotlib.pyplot as plt \n",
    "from PIL import Image\n",
    "import tensorflow as tf\n",
    "from tensorflow.keras.layers import Input, Dense, Conv2D, Conv2DTranspose\n",
    "from tensorflow.keras.models import Sequential\n",
    "from tensorflow.keras.callbacks import TensorBoard, EarlyStopping, ModelCheckpoint\n",
    "import os\n",
    "import shutil\n",
    "from tensorflow.keras import metrics\n",
    "import matplotlib\n",
    "#from keras.preprocessing.image import ImageDataGenerator\n",
    "from tensorflow.keras.applications.xception import preprocess_input\n",
    "from tensorflow.keras.applications import Xception\n",
    "from tensorflow.keras.preprocessing.image import img_to_array, load_img\n",
    "from tensorflow.keras.models import Model\n",
    "from tensorflow.keras.optimizers import SGD, RMSprop\n"
   ]
  },
  {
   "cell_type": "markdown",
   "metadata": {},
   "source": [
    "# Start with just one image\n",
    "1. upload image\n",
    "2. create duplicate image with lines\n",
    "3. build model and try to run with one image"
   ]
  },
  {
   "cell_type": "code",
   "execution_count": null,
   "metadata": {},
   "outputs": [],
   "source": [
    "# #read in one image as target (or y)\n",
    "# y = np.array(Image.open('Data/Unruled/sc0181_NEW.jpg'))\n",
    "# #show image from array\n",
    "# Image.fromarray(y)"
   ]
  },
  {
   "cell_type": "code",
   "execution_count": null,
   "metadata": {},
   "outputs": [],
   "source": [
    "#y.shape"
   ]
  },
  {
   "cell_type": "code",
   "execution_count": null,
   "metadata": {},
   "outputs": [],
   "source": [
    "#2. create lines on target image\n",
    "\n",
    "# X = np.array(y)\n",
    "# #[row_start:row_stop: row_step, col_start:col_stop:col_step ] \n",
    "# X[::40+np.random.randint(-2,2),:] = 80+np.random.randint(-60, 130)\n",
    "# #show new image from array\n",
    "# Image.fromarray(X)\n"
   ]
  },
  {
   "cell_type": "code",
   "execution_count": 3,
   "metadata": {},
   "outputs": [],
   "source": [
    "image_to_predict = np.array(Image.open('Data/Original_Ruled/IMG_0002.jpg'))"
   ]
  },
  {
   "cell_type": "code",
   "execution_count": 4,
   "metadata": {},
   "outputs": [],
   "source": [
    "# fig, axs = matplotlib.pyplot.subplots(1,2, figsize = (10,10))\n",
    "# [ax.imshow(x) for ax, x in zip(axs.flatten(), [X, y])];\n"
   ]
  },
  {
   "cell_type": "code",
   "execution_count": 5,
   "metadata": {},
   "outputs": [],
   "source": [
    "#reshape to fit into model\n",
    "# X = X.reshape(*X.shape,1)\n",
    "# X.shape"
   ]
  },
  {
   "cell_type": "markdown",
   "metadata": {},
   "source": [
    "# Bring in entire data set"
   ]
  },
  {
   "cell_type": "code",
   "execution_count": 7,
   "metadata": {},
   "outputs": [
    {
     "data": {
      "text/plain": [
       "(669, 500, 400, 1)"
      ]
     },
     "execution_count": 7,
     "metadata": {},
     "output_type": "execute_result"
    }
   ],
   "source": [
    "#y\n",
    "y_list = []\n",
    "for image in os.listdir('Data/y_variables/Unruled'):\n",
    "    file='Data/y_variables/Unruled/'+ str(image)\n",
    "    y_image = np.array(Image.open(file))\n",
    "    y_image = y_image.reshape(*y_image.shape,1)\n",
    "    y_list.append(y_image)\n",
    "                  \n",
    "y = np.array(y_list)  \n",
    "y.shape"
   ]
  },
  {
   "cell_type": "code",
   "execution_count": 8,
   "metadata": {},
   "outputs": [
    {
     "data": {
      "text/plain": [
       "(669, 500, 400, 1)"
      ]
     },
     "execution_count": 8,
     "metadata": {},
     "output_type": "execute_result"
    }
   ],
   "source": [
    "#X\n",
    "\n",
    "X_list = []\n",
    "for image in os.listdir('Data/X_variables/computer_generated_lines'):\n",
    "    \n",
    "    file = 'Data/X_variables/computer_generated_lines/'+str(image)\n",
    "    X_image = np.array(Image.open(file))\n",
    "    X_image = X_image.reshape(*X_image.shape,1)\n",
    "    X_list.append(X_image)\n",
    "    \n",
    "X = np.array(X_list)\n",
    "X.shape"
   ]
  },
  {
   "cell_type": "code",
   "execution_count": null,
   "metadata": {},
   "outputs": [],
   "source": []
  },
  {
   "cell_type": "code",
   "execution_count": null,
   "metadata": {},
   "outputs": [],
   "source": [
    "# train_datagen = ImageDataGenerator()\n",
    "# #validation_datagen = ImageDataGenerator(preprocessing_function=preprocess_input)\n",
    "# X_train_generator = train_datagen.flow_from_directory(\n",
    "#         '/Users/megan/Galvanize/capstone_folder/Capstone_3/Data/X_variables',\n",
    "#         target_size=(500, 400),\n",
    "#         color_mode='grayscale',\n",
    "#         batch_size=32,\n",
    "#         class_mode='input')\n",
    "# y_train_generator = train_datagen.flow_from_directory(\n",
    "#         '/Users/megan/Galvanize/capstone_folder/Capstone_3/Data/y_variables',\n",
    "#         target_size=(500, 400),\n",
    "#         color_mode='grayscale',\n",
    "#         batch_size=32,\n",
    "#         class_mode='input')\n"
   ]
  },
  {
   "cell_type": "code",
   "execution_count": null,
   "metadata": {},
   "outputs": [],
   "source": [
    "#next(X_train_generator)[1]"
   ]
  },
  {
   "cell_type": "code",
   "execution_count": null,
   "metadata": {},
   "outputs": [],
   "source": []
  },
  {
   "cell_type": "code",
   "execution_count": 14,
   "metadata": {},
   "outputs": [
    {
     "data": {
      "text/plain": [
       "'1.10.0'"
      ]
     },
     "execution_count": 14,
     "metadata": {},
     "output_type": "execute_result"
    }
   ],
   "source": [
    "# image_generator = train_datagen.flow(\n",
    "#     x=X_list,\n",
    "#     y=y_list,\n",
    "#     batch_size=32,\n",
    "#     shuffle=False)\n",
    "# X_list[0].shape\n",
    "#input_shape = (500,400,1)\n",
    "tf.__version__"
   ]
  },
  {
   "cell_type": "code",
   "execution_count": 15,
   "metadata": {},
   "outputs": [
    {
     "name": "stdout",
     "output_type": "stream",
     "text": [
      "_________________________________________________________________\n",
      "Layer (type)                 Output Shape              Param #   \n",
      "=================================================================\n",
      "conv2d (Conv2D)              (None, 498, 398, 32)      320       \n",
      "_________________________________________________________________\n",
      "conv2d_1 (Conv2D)            (None, 496, 396, 32)      9248      \n",
      "_________________________________________________________________\n",
      "conv2d_2 (Conv2D)            (None, 494, 394, 32)      9248      \n",
      "_________________________________________________________________\n",
      "dense (Dense)                (None, 494, 394, 128)     4224      \n",
      "_________________________________________________________________\n",
      "dense_1 (Dense)              (None, 494, 394, 128)     16512     \n",
      "_________________________________________________________________\n",
      "conv2d_transpose (Conv2DTran (None, 496, 396, 32)      36896     \n",
      "_________________________________________________________________\n",
      "conv2d_transpose_1 (Conv2DTr (None, 498, 398, 32)      9248      \n",
      "_________________________________________________________________\n",
      "conv2d_transpose_2 (Conv2DTr (None, 500, 400, 32)      9248      \n",
      "_________________________________________________________________\n",
      "conv2d_transpose_3 (Conv2DTr (None, 500, 400, 1)       289       \n",
      "=================================================================\n",
      "Total params: 95,233\n",
      "Trainable params: 95,233\n",
      "Non-trainable params: 0\n",
      "_________________________________________________________________\n"
     ]
    }
   ],
   "source": [
    "#3.build the model\n",
    "\n",
    "model = Sequential()\n",
    "#model.add(Input(input_shape))\n",
    "#model.add(Input((X.shape)))\n",
    "model.add(Conv2D(filters = 32, kernel_size = (3,3), activation = 'relu', input_shape = input_shape))\n",
    "model.add(Conv2D(filters = 32, kernel_size = (3,3), activation = 'relu'))\n",
    "model.add(Conv2D(filters = 32, kernel_size = (3,3), activation = 'relu'))\n",
    "\n",
    "model.add(Dense(128,  activation='relu'))\n",
    "# model.add(Dense(64,  activation='relu'))\n",
    "# #model.add(Dense(2,    activation='linear', name=\"bottleneck\"))\n",
    "# model.add(Dense(64,  activation='relu'))\n",
    "model.add(Dense(128,  activation='relu'))\n",
    "# model.add(Dense(784,  activation='linear'))\n",
    "\n",
    "model.add(Conv2DTranspose(filters = 32, kernel_size=(3,3), activation='relu'))\n",
    "model.add(Conv2DTranspose(filters = 32, kernel_size=(3,3), activation='relu'))\n",
    "model.add(Conv2DTranspose(filters = 32, kernel_size=(3,3), activation='relu'))\n",
    "model.add(Conv2DTranspose(filters = 1, kernel_size=(3,3), activation='linear', padding='same'))\n",
    "\n",
    "model.summary()"
   ]
  },
  {
   "cell_type": "code",
   "execution_count": 16,
   "metadata": {},
   "outputs": [
    {
     "data": {
      "text/plain": [
       "function"
      ]
     },
     "execution_count": 16,
     "metadata": {},
     "output_type": "execute_result"
    }
   ],
   "source": [
    "type(Input)"
   ]
  },
  {
   "cell_type": "code",
   "execution_count": 20,
   "metadata": {},
   "outputs": [],
   "source": [
    "#4 compile your model\n",
    "\n",
    "# METRICS = [ metrics.CategoricalAccuracy(name='ACCURACY'),\n",
    "#             metrics.AUC(name='AUC',curve='pr', multi_label=False),\n",
    "#            metrics.SensitivityAtSpecificity(0.5, name='Sens@Spec'),\n",
    "#            metrics.SpecificityAtSensitivity(0.5, name='Spec@Sens')]\n",
    "# new tensorflow\n",
    "# METRICS = [ metrics.Accuracy(name='ACCURACY'),\n",
    "#             metrics.AUC(name='AUC')]\n",
    "\n",
    "\n",
    "model.compile(loss = 'mse', optimizer = 'adam', metrics=['accuracy'])\n"
   ]
  },
  {
   "cell_type": "code",
   "execution_count": 32,
   "metadata": {},
   "outputs": [],
   "source": [
    "#5 set up tensorboard\n",
    "\n",
    "#updated tensorboard\n",
    "# checkpoint_filepath = './tmp/checkpoint'\n",
    "# tensorboard = TensorBoard(log_dir=\"./logs\",\n",
    "#     histogram_freq=2,\n",
    "#     write_graph=True,\n",
    "#     write_images=True,\n",
    "#     update_freq=\"epoch\",\n",
    "#     profile_batch=2,\n",
    "#     embeddings_freq=0,\n",
    "#     embeddings_metadata=None)\n",
    "\n",
    "\n",
    "#old version\n",
    "# checkpoint_filepath = './tmp/checkpoint'\n",
    "# tensorboard = TensorBoard(log_dir=\"./logs\",\n",
    "#     write_graph=True,\n",
    "#     write_images=True)\n",
    "\n",
    "# updated tensorboard\n",
    "# early_stopping = EarlyStopping(monitor='loss', patience=10, restore_best_weights=True)\n",
    "# model_cp = ModelCheckpoint(filepath=checkpoint_filepath, save_best_only=True)\n",
    "\n",
    "\n",
    "#old version\n",
    "#model_cp = ModelCheckpoint(filepath=checkpoint_filepath)\n",
    "early_stopping = EarlyStopping(monitor='loss',patience=10)"
   ]
  },
  {
   "cell_type": "code",
   "execution_count": null,
   "metadata": {},
   "outputs": [],
   "source": []
  },
  {
   "cell_type": "code",
   "execution_count": 33,
   "metadata": {},
   "outputs": [
    {
     "name": "stdout",
     "output_type": "stream",
     "text": [
      "Epoch 1/100\n",
      "669/669 [==============================] - 1072s 2s/step - loss: 1065.0351 - acc: 0.0160\n",
      "Epoch 2/100\n",
      "669/669 [==============================] - 1074s 2s/step - loss: 900.3969 - acc: 0.0229\n",
      "Epoch 3/100\n",
      "669/669 [==============================] - 1072s 2s/step - loss: 830.1613 - acc: 0.0235\n",
      "Epoch 4/100\n",
      "669/669 [==============================] - 1072s 2s/step - loss: 823.4719 - acc: 0.0241\n",
      "Epoch 5/100\n",
      "669/669 [==============================] - 1074s 2s/step - loss: 933.9014 - acc: 0.0165\n",
      "Epoch 6/100\n",
      "669/669 [==============================] - 1073s 2s/step - loss: 961.7143 - acc: 0.0141\n",
      "Epoch 7/100\n",
      "669/669 [==============================] - 1076s 2s/step - loss: 843.8458 - acc: 0.0212\n",
      "Epoch 8/100\n",
      "669/669 [==============================] - 1080s 2s/step - loss: 839.3140 - acc: 0.0195\n",
      "Epoch 9/100\n",
      "669/669 [==============================] - 1081s 2s/step - loss: 806.2303 - acc: 0.0229\n",
      "Epoch 10/100\n",
      "669/669 [==============================] - 1080s 2s/step - loss: 789.5377 - acc: 0.0241\n",
      "Epoch 11/100\n",
      "669/669 [==============================] - 1082s 2s/step - loss: 1051.5936 - acc: 0.0133\n",
      "Epoch 12/100\n",
      "669/669 [==============================] - 1082s 2s/step - loss: 1126.6366 - acc: 0.0104\n",
      "Epoch 13/100\n",
      "669/669 [==============================] - 1078s 2s/step - loss: 875.3941 - acc: 0.0187\n",
      "Epoch 14/100\n",
      "669/669 [==============================] - 1073s 2s/step - loss: 794.4595 - acc: 0.0260\n",
      "Epoch 15/100\n",
      "669/669 [==============================] - 1073s 2s/step - loss: 779.0609 - acc: 0.0202\n",
      "Epoch 16/100\n",
      "669/669 [==============================] - 1132s 2s/step - loss: 836.1043 - acc: 0.0202\n",
      "Epoch 17/100\n",
      "669/669 [==============================] - 1076s 2s/step - loss: 804.6766 - acc: 0.0199\n",
      "Epoch 18/100\n",
      "669/669 [==============================] - 1076s 2s/step - loss: 801.5929 - acc: 0.0236\n",
      "Epoch 19/100\n",
      "669/669 [==============================] - 1076s 2s/step - loss: 836.3079 - acc: 0.0240\n",
      "Epoch 20/100\n",
      "669/669 [==============================] - 1074s 2s/step - loss: 804.4811 - acc: 0.0232\n",
      "Epoch 21/100\n",
      "669/669 [==============================] - 1073s 2s/step - loss: 795.9853 - acc: 0.0246\n",
      "Epoch 22/100\n",
      "669/669 [==============================] - 1076s 2s/step - loss: 827.2885 - acc: 0.0195\n",
      "Epoch 23/100\n",
      "669/669 [==============================] - 1078s 2s/step - loss: 884.5630 - acc: 0.0170\n",
      "Epoch 24/100\n",
      "669/669 [==============================] - 1079s 2s/step - loss: 890.6034 - acc: 0.0158\n",
      "Epoch 25/100\n",
      "669/669 [==============================] - 1077s 2s/step - loss: 821.5157 - acc: 0.0212\n"
     ]
    },
    {
     "data": {
      "text/plain": [
       "<tensorflow.python.keras.callbacks.History at 0x7fc5be831080>"
      ]
     },
     "execution_count": 33,
     "metadata": {},
     "output_type": "execute_result"
    }
   ],
   "source": [
    "# for X in X_list:\n",
    "#     for y in y_list:\n",
    "\n",
    "#         model.fit(x=np.array([X]), y=np.array([y]), epochs = 500, verbose=1, callbacks=[tensorboard, early_stopping,  model_cp])\n",
    "\n",
    "# model.fit(x=X, y=y, epochs = 100, verbose=1, callbacks=[tensorboard, early_stopping,  model_cp])\n",
    "model.fit(x=X, y=y, epochs = 100, verbose=1, callbacks=[early_stopping])"
   ]
  },
  {
   "cell_type": "code",
   "execution_count": 34,
   "metadata": {},
   "outputs": [
    {
     "data": {
      "image/png": "[encoded data removed]",
      "text/plain": [
       "<PIL.Image.Image image mode=L size=400x500 at 0x7FC5BE8F1630>"
      ]
     },
     "execution_count": 34,
     "metadata": {},
     "output_type": "execute_result"
    }
   ],
   "source": [
    "# result = model.predict(np.array([X]))\n",
    "result = model.predict(np.array([image_to_predict.reshape(*image_to_predict.shape, 1)]))\n",
    "result = result.astype(np.uint8).reshape(500,400)\n",
    "Image.fromarray(result)"
   ]
  },
  {
   "cell_type": "code",
   "execution_count": null,
   "metadata": {},
   "outputs": [],
   "source": []
  },
  {
   "cell_type": "code",
   "execution_count": null,
   "metadata": {},
   "outputs": [],
   "source": []
  },
  {
   "cell_type": "code",
   "execution_count": null,
   "metadata": {},
   "outputs": [],
   "source": [
    "input_img = Input(shape=input_shape)\n",
    "x = Conv2D(256, 2, activation=\"swish\", padding=\"same\")(input_img)\n",
    "x = BatchNormalization()(x)\n",
    "x = Conv2D(128, 1, activation=\"swish\", padding=\"same\")(x)\n",
    "x = BatchNormalization()(x)\n",
    "x = MaxPooling2D(2, padding=\"same\")(x) \n",
    "x = Conv2D(64, 1, activation=\"linear\", padding=\"same\")(x)\n",
    "x = BatchNormalization()(x)\n",
    "encoded = MaxPooling2D(2, padding=\"same\")(x) \n",
    "x = Conv2D(64, 1, activation=\"relu\", padding=\"same\")(x)\n",
    "x = BatchNormalization()(x)\n",
    "# x = UpSampling2D(2)(x)\n",
    "# x = Dropout(0.5)(x)\n",
    "x = Conv2D(128, 1, activation=\"relu\", padding=\"same\")(x)\n",
    "x = BatchNormalization()(x)\n",
    "x = UpSampling2D(2)(x)\n",
    "x = Conv2D(256, 2, activation=\"relu\", padding=\"same\")(x)\n",
    "x = BatchNormalization()(x)\n",
    "decoded = Conv2D(1, 1, activation=\"linear\", padding='same')(x)\n",
    "autoencoder = Model(input_img, decoded)\n",
    "autoencoder.summary()"
   ]
  },
  {
   "cell_type": "code",
   "execution_count": null,
   "metadata": {},
   "outputs": [],
   "source": []
  },
  {
   "cell_type": "code",
   "execution_count": null,
   "metadata": {},
   "outputs": [],
   "source": []
  },
  {
   "cell_type": "code",
   "execution_count": null,
   "metadata": {},
   "outputs": [],
   "source": [
    "#next(X_train_generator).shape"
   ]
  },
  {
   "cell_type": "code",
   "execution_count": null,
   "metadata": {},
   "outputs": [],
   "source": [
    "#type(X_train_generator)"
   ]
  },
  {
   "cell_type": "code",
   "execution_count": null,
   "metadata": {},
   "outputs": [],
   "source": []
  },
  {
   "cell_type": "code",
   "execution_count": null,
   "metadata": {},
   "outputs": [],
   "source": []
  },
  {
   "cell_type": "code",
   "execution_count": null,
   "metadata": {},
   "outputs": [],
   "source": []
  },
  {
   "cell_type": "code",
   "execution_count": null,
   "metadata": {},
   "outputs": [],
   "source": [
    "#!tensorboard --logdir=logs\n"
   ]
  },
  {
   "cell_type": "code",
   "execution_count": null,
   "metadata": {},
   "outputs": [],
   "source": []
  },
  {
   "cell_type": "code",
   "execution_count": null,
   "metadata": {},
   "outputs": [],
   "source": []
  },
  {
   "cell_type": "code",
   "execution_count": null,
   "metadata": {},
   "outputs": [],
   "source": [
    "#to create all images with random line widths and depth - only need to do once\n",
    "\n",
    "# for image in os.listdir('Data/Unruled'):\n",
    "\n",
    "#     y=np.array((Image.open(f'Data/Unruled/{image}')))\n",
    "#     X = np.array(y)\n",
    "#     X[::40+np.random.randint(-20,20),:] = 80+np.random.randint(-60, 130)\n",
    "#     pil_X = Image.fromarray(X)\n",
    "#     pil_X.save(f'Data/computer_generated_lines/lined_{image}')\n"
   ]
  }
 ],
 "metadata": {
  "kernelspec": {
   "display_name": "Python 3",
   "language": "python",
   "name": "python3"
  },
  "language_info": {
   "codemirror_mode": {
    "name": "ipython",
    "version": 3
   },
   "file_extension": ".py",
   "mimetype": "text/x-python",
   "name": "python",
   "nbconvert_exporter": "python",
   "pygments_lexer": "ipython3",
   "version": "3.7.6"
  }
 },
 "nbformat": 4,
 "nbformat_minor": 4
}
