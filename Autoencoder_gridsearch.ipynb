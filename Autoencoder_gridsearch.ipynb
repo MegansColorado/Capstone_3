{
 "cells": [
  {
   "cell_type": "code",
   "execution_count": 1,
   "metadata": {},
   "outputs": [],
   "source": [
    "import numpy as np \n",
    "import pandas as pd\n",
    "from tensorflow import keras\n",
    "#import matplotlib.pyplot as plt \n",
    "from PIL import Image\n",
    "import tensorflow as tf\n",
    "from tensorflow.keras.layers import Input, Dense, Conv2D, Conv2DTranspose\n",
    "from tensorflow.keras.models import Sequential\n",
    "from tensorflow.keras.callbacks import TensorBoard, EarlyStopping, ModelCheckpoint\n",
    "import os\n",
    "import shutil\n",
    "from tensorflow.keras import metrics\n",
    "import matplotlib\n",
    "#from keras.preprocessing.image import ImageDataGenerator\n",
    "from tensorflow.keras.applications.xception import preprocess_input\n",
    "from tensorflow.keras.applications import Xception\n",
    "from tensorflow.keras.preprocessing.image import img_to_array, load_img\n",
    "from tensorflow.keras.models import Model\n",
    "from tensorflow.keras.optimizers import SGD, RMSprop"
   ]
  },
  {
   "cell_type": "code",
   "execution_count": null,
   "metadata": {},
   "outputs": [],
   "source": [
    "#y\n",
    "y_list = []\n",
    "for image in os.listdir('Data/y_variables/Unruled'):\n",
    "    file='Data/y_variables/Unruled/'+ str(image)\n",
    "    y_image = np.array(Image.open(file))\n",
    "    y_image = y_image.reshape(*y_image.shape,1)\n",
    "    y_list.append(y_image)\n",
    "                  \n",
    "y = np.array(y_list)  \n",
    "y.shape"
   ]
  },
  {
   "cell_type": "code",
   "execution_count": null,
   "metadata": {},
   "outputs": [],
   "source": [
    "#X\n",
    "\n",
    "X_list = []\n",
    "for image in os.listdir('Data/X_variables/computer_generated_lines'):\n",
    "    \n",
    "    file = 'Data/X_variables/computer_generated_lines/'+str(image)\n",
    "    X_image = np.array(Image.open(file))\n",
    "    X_image = X_image.reshape(*X_image.shape,1)\n",
    "    X_list.append(X_image)\n",
    "    \n",
    "X = np.array(X_list)\n",
    "X.shape"
   ]
  },
  {
   "cell_type": "code",
   "execution_count": null,
   "metadata": {},
   "outputs": [],
   "source": [
    "from keras.wrappers.scikit_learn import KerasClassifier\n",
    "from keras.wrappers.scikit_learn import KerasRegressor\n",
    "from sklearn.model_selection import GridSearchCV\n"
   ]
  },
  {
   "cell_type": "code",
   "execution_count": null,
   "metadata": {},
   "outputs": [],
   "source": [
    "\n",
    "def create_model():\n",
    "    <return a compiled but untrained keras model>\n",
    "\n",
    "model = KerasClassifier(build_fn = create_model, batch_size=1000, epochs=10)\n",
    "#now write out all the parameters you want to try out for the grid search\n",
    "activation = ['relu', 'tanh', 'sigmoid', 'linear', 'leakyrelu'...]\n",
    "learn_rate = [0.1, 0.2, .5, ...]\n",
    "init = ['unform', 'normal', 'zero', ...]\n",
    "optimizer = ['SGD', 'Adam' ...]\n",
    "param_grid = dict(activation=activation, learn_rate=learn_rate, init=init, optimizer=optimizer)\n",
    "grid = GridSearchCV(estimator=model, param_grid=param_grid)\n",
    "result = grid.fit(X, y)"
   ]
  },
  {
   "cell_type": "code",
   "execution_count": null,
   "metadata": {},
   "outputs": [],
   "source": []
  },
  {
   "cell_type": "code",
   "execution_count": null,
   "metadata": {},
   "outputs": [],
   "source": []
  },
  {
   "cell_type": "code",
   "execution_count": null,
   "metadata": {},
   "outputs": [],
   "source": []
  },
  {
   "cell_type": "code",
   "execution_count": null,
   "metadata": {},
   "outputs": [],
   "source": []
  }
 ],
 "metadata": {
  "kernelspec": {
   "display_name": "Environment (conda_tensorflow2_latest_p37)",
   "language": "python",
   "name": "conda_tensorflow2_latest_p37"
  },
  "language_info": {
   "codemirror_mode": {
    "name": "ipython",
    "version": 3
   },
   "file_extension": ".py",
   "mimetype": "text/x-python",
   "name": "python",
   "nbconvert_exporter": "python",
   "pygments_lexer": "ipython3",
   "version": "3.7.7"
  }
 },
 "nbformat": 4,
 "nbformat_minor": 4
}
