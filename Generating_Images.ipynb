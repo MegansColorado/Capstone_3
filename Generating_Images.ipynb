{
 "cells": [
  {
   "cell_type": "markdown",
   "metadata": {},
   "source": [
    "# creates more images for the model to train on\n"
   ]
  },
  {
   "cell_type": "markdown",
   "metadata": {},
   "source": [
    "### Makes slanted lines\n",
    "For additional variation in training data, we can make slant, wiggle, line_spacing, offset and gray value all random:"
   ]
  },
  {
   "cell_type": "code",
   "execution_count": null,
   "metadata": {},
   "outputs": [],
   "source": []
  },
  {
   "cell_type": "code",
   "execution_count": null,
   "metadata": {},
   "outputs": [],
   "source": []
  },
  {
   "cell_type": "code",
   "execution_count": null,
   "metadata": {},
   "outputs": [],
   "source": []
  },
  {
   "cell_type": "code",
   "execution_count": null,
   "metadata": {},
   "outputs": [],
   "source": []
  },
  {
   "cell_type": "code",
   "execution_count": null,
   "metadata": {},
   "outputs": [],
   "source": [
    "original_image = np.array(Image.open(os.path.join('images/Unruled','IMG_0004.jpg')))\n",
    "\n",
    "# Make a blank copy of the original_image\n",
    "lines = original_image * 0\n",
    "\n",
    "# Set every nth row to a line\n",
    "spacing = np.random.randint(25, 50)\n",
    "offset = np.random.randint(25)\n",
    "lines[offset::spacing,:] = 1\n",
    "\n",
    "# Add slant\n",
    "slant = np.random.uniform(-.1,.1)\n",
    "for i in range(lines.shape[1]):\n",
    "    wiggle = np.random.uniform(-1,1)\n",
    "    lines[:,i] = np.roll(lines[:,i], int(i*slant + wiggle))\n",
    "    \n",
    "# merge the lines with the original image\n",
    "gray_value = np.random.randint(40,120)\n",
    "original_image = (1-lines)*original_image + lines*gray_value\n",
    "plt.imshow(original_image)"
   ]
  },
  {
   "cell_type": "code",
   "execution_count": null,
   "metadata": {},
   "outputs": [],
   "source": []
  },
  {
   "cell_type": "code",
   "execution_count": null,
   "metadata": {},
   "outputs": [],
   "source": []
  }
 ],
 "metadata": {
  "kernelspec": {
   "display_name": "Python 3",
   "language": "python",
   "name": "python3"
  },
  "language_info": {
   "codemirror_mode": {
    "name": "ipython",
    "version": 3
   },
   "file_extension": ".py",
   "mimetype": "text/x-python",
   "name": "python",
   "nbconvert_exporter": "python",
   "pygments_lexer": "ipython3",
   "version": "3.7.7"
  }
 },
 "nbformat": 4,
 "nbformat_minor": 4
}
