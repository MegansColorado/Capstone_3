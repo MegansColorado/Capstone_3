{
 "cells": [
  {
   "cell_type": "code",
   "execution_count": 1,
   "metadata": {},
   "outputs": [],
   "source": [
    "import numpy as np \n",
    "import pandas as pd\n",
    "from tensorflow import keras\n",
    "import matplotlib.pyplot as plt \n",
    "from PIL import Image\n",
    "import tensorflow as tf\n",
    "from tensorflow.keras.layers import Input, Dense, Conv2D, Conv2DTranspose, MaxPooling2D, UpSampling2D\n",
    "from tensorflow.keras.models import Sequential\n",
    "from tensorflow.keras.callbacks import TensorBoard, EarlyStopping, ModelCheckpoint\n",
    "import os\n",
    "import shutil\n",
    "from tensorflow.keras import metrics\n",
    "import matplotlib\n",
    "#from keras.preprocessing.image import ImageDataGenerator\n",
    "from tensorflow.keras.applications.xception import preprocess_input\n",
    "from tensorflow.keras.applications import Xception\n",
    "from tensorflow.keras.preprocessing.image import img_to_array, load_img\n",
    "from tensorflow.keras.models import Model\n",
    "from tensorflow.keras.optimizers import SGD, RMSprop"
   ]
  },
  {
   "cell_type": "markdown",
   "metadata": {},
   "source": [
    "# Create X and y datasets"
   ]
  },
  {
   "cell_type": "code",
   "execution_count": 3,
   "metadata": {},
   "outputs": [
    {
     "data": {
      "text/plain": [
       "((669, 500, 400, 1), (669, 500, 400, 1))"
      ]
     },
     "execution_count": 3,
     "metadata": {},
     "output_type": "execute_result"
    }
   ],
   "source": [
    "def create_X_and_y(X_filepath, y_filepath):\n",
    "    \n",
    "    ''' imports lined images and unlined images from jpeg files \n",
    "    into numpy arrays for use into autoencoder'''\n",
    "    \n",
    "    y_list = []\n",
    "    for image in sorted(os.listdir(y_filepath)):\n",
    "        file= y_filepath + str(image)\n",
    "        y_image = np.array(Image.open(file))\n",
    "        y_image = y_image.reshape(*y_image.shape,1)\n",
    "        y_list.append(y_image)\n",
    "                    \n",
    "    y = np.array(y_list)  \n",
    "\n",
    "    X_list = []\n",
    "    for image in sorted(os.listdir(X_filepath)):\n",
    "        file = X_filepath+str(image)\n",
    "        X_image = np.array(Image.open(file))\n",
    "        X_image = X_image.reshape(*X_image.shape,1)\n",
    "        X_list.append(X_image)\n",
    "        \n",
    "    X = np.array(X_list)\n",
    "    \n",
    "    return X,y\n",
    "\n",
    "\n",
    "\n",
    "y_filepath = 'Data/y_variables/Unruled/'\n",
    "X_filepath = 'Data/X_variables/computer_generated_lines/'\n",
    "\n",
    "X,y = create_X_and_y(X_filepath, y_filepath)\n",
    "X.shape, y.shape"
   ]
  },
  {
   "cell_type": "code",
   "execution_count": null,
   "metadata": {},
   "outputs": [],
   "source": []
  },
  {
   "cell_type": "code",
   "execution_count": null,
   "metadata": {},
   "outputs": [],
   "source": []
  },
  {
   "cell_type": "markdown",
   "metadata": {},
   "source": []
  },
  {
   "cell_type": "code",
   "execution_count": null,
   "metadata": {},
   "outputs": [],
   "source": [
    "def callbacks(model_name = 'model', early_stopping = False, patience = None):\n",
    "    checkpoint_filepath = (f'./tmp/{model_name}/checkpoint')\n",
    "    tensorboard = TensorBoard(log_dir=(f\"./logs/{model_name}\"),\n",
    "                            \n",
    "                            histogram_freq=2,\n",
    "                            write_graph=True,\n",
    "                            write_images=True,\n",
    "                            update_freq=\"epoch\",\n",
    "                            profile_batch=2,\n",
    "                            embeddings_freq=0,\n",
    "                            embeddings_metadata=None)\n",
    "    if early_stopping == True:\n",
    "        early_stopping = EarlyStopping(monitor='loss',  patience=patience, restore_best_weights=True)\n",
    "    model_cp = ModelCheckpoint(filepath=checkpoint_filepath, monitor = 'loss', save_best_only=True)\n",
    "    callbacks = tensorboard, early_stopping, model_cp\n",
    "    return callbacks"
   ]
  },
  {
   "cell_type": "code",
   "execution_count": null,
   "metadata": {},
   "outputs": [],
   "source": []
  },
  {
   "cell_type": "code",
   "execution_count": null,
   "metadata": {},
   "outputs": [],
   "source": [
    "def create_and_compile_sparse_model(optimizer='adam', loss='mse', metrics='accuracy'):\n",
    "    ''' creates and compiles sparse layer MODEL B of capstone 3 '''\n",
    "\n",
    "    input_img = Input(shape=(500,400,1)) \n",
    "    x = Conv2D(32, (3, 3), activation='relu')(input_img)\n",
    "    x = Conv2D(8, (3, 3), activation='relu', padding='same')(x)\n",
    "    x = Dense(128)(x) \n",
    "    x= Conv2DTranspose(32,(3,3), activation='relu')(x)\n",
    "    decoded = Conv2DTranspose(1, (3, 3), activation='linear', padding='same')(x)\n",
    "\n",
    "    autoencoder_B = Model(input_img, decoded)\n",
    "    autoencoder_B.summary()\n",
    "    return autoencoder_B.compile(optimizer=optimizer, loss=loss, metrics=metrics)\n"
   ]
  },
  {
   "cell_type": "code",
   "execution_count": null,
   "metadata": {},
   "outputs": [],
   "source": []
  },
  {
   "cell_type": "code",
   "execution_count": null,
   "metadata": {},
   "outputs": [],
   "source": []
  },
  {
   "cell_type": "code",
   "execution_count": null,
   "metadata": {},
   "outputs": [],
   "source": []
  },
  {
   "cell_type": "code",
   "execution_count": null,
   "metadata": {},
   "outputs": [],
   "source": []
  },
  {
   "cell_type": "code",
   "execution_count": null,
   "metadata": {},
   "outputs": [],
   "source": []
  },
  {
   "cell_type": "code",
   "execution_count": null,
   "metadata": {},
   "outputs": [],
   "source": [
    "image_to_predict = np.array(Image.open('Data/Original_Ruled/IMG_0003.jpg'))"
   ]
  },
  {
   "cell_type": "code",
   "execution_count": null,
   "metadata": {},
   "outputs": [],
   "source": []
  },
  {
   "cell_type": "code",
   "execution_count": null,
   "metadata": {},
   "outputs": [],
   "source": []
  },
  {
   "cell_type": "code",
   "execution_count": null,
   "metadata": {},
   "outputs": [],
   "source": []
  }
 ],
 "metadata": {
  "kernelspec": {
   "display_name": "Python 3",
   "language": "python",
   "name": "python3"
  },
  "language_info": {
   "codemirror_mode": {
    "name": "ipython",
    "version": 3
   },
   "file_extension": ".py",
   "mimetype": "text/x-python",
   "name": "python",
   "nbconvert_exporter": "python",
   "pygments_lexer": "ipython3",
   "version": "3.7.7"
  }
 },
 "nbformat": 4,
 "nbformat_minor": 4
}
