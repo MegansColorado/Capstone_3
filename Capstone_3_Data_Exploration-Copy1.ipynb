{
 "cells": [
  {
   "cell_type": "code",
   "execution_count": 10,
   "metadata": {},
   "outputs": [],
   "source": [
    "import numpy as np \n",
    "import pandas as pd\n",
    "from tensorflow import keras\n",
    "import matplotlib.pyplot as plt \n",
    "from PIL import Image\n",
    "import tensorflow as tf\n",
    "from tensorflow.keras.layers import Input, Dense, Conv2D, Conv2DTranspose, MaxPooling2D, UpSampling2D\n",
    "\n",
    "from tensorflow.keras.models import Sequential\n",
    "from tensorflow.keras.callbacks import TensorBoard, EarlyStopping, ModelCheckpoint\n",
    "import os\n",
    "import shutil\n",
    "from tensorflow.keras import metrics\n",
    "import matplotlib\n",
    "#from keras.preprocessing.image import ImageDataGenerator\n",
    "from tensorflow.keras.applications.xception import preprocess_input\n",
    "from tensorflow.keras.applications import Xception\n",
    "from tensorflow.keras.preprocessing.image import img_to_array, load_img\n",
    "from tensorflow.keras.models import Model\n",
    "from tensorflow.keras.optimizers import SGD, RMSprop\n",
    "\n",
    "\n"
   ]
  },
  {
   "cell_type": "markdown",
   "metadata": {},
   "source": [
    "# Start with just one image\n",
    "1. upload image\n",
    "2. create duplicate image with lines\n",
    "3. build model and try to run with one image"
   ]
  },
  {
   "cell_type": "code",
   "execution_count": null,
   "metadata": {},
   "outputs": [],
   "source": [
    "# #read in one image as target (or y)\n",
    "# y = np.array(Image.open('Data/Unruled/sc0181_NEW.jpg'))\n",
    "# #show image from array\n",
    "# Image.fromarray(y)"
   ]
  },
  {
   "cell_type": "code",
   "execution_count": null,
   "metadata": {},
   "outputs": [],
   "source": [
    "#y.shape"
   ]
  },
  {
   "cell_type": "code",
   "execution_count": null,
   "metadata": {},
   "outputs": [],
   "source": [
    "#2. create lines on target image\n",
    "\n",
    "# X = np.array(y)\n",
    "# #[row_start:row_stop: row_step, col_start:col_stop:col_step ] \n",
    "# X[::40+np.random.randint(-2,2),:] = 80+np.random.randint(-60, 130)\n",
    "# #show new image from array\n",
    "# Image.fromarray(X)\n"
   ]
  },
  {
   "cell_type": "code",
   "execution_count": 6,
   "metadata": {},
   "outputs": [],
   "source": [
    "image_to_predict = np.array(Image.open('Data/Original_Ruled/IMG_0002.jpg'))"
   ]
  },
  {
   "cell_type": "code",
   "execution_count": 4,
   "metadata": {},
   "outputs": [],
   "source": [
    "# fig, axs = matplotlib.pyplot.subplots(1,2, figsize = (10,10))\n",
    "# [ax.imshow(x) for ax, x in zip(axs.flatten(), [X, y])];\n"
   ]
  },
  {
   "cell_type": "code",
   "execution_count": 5,
   "metadata": {},
   "outputs": [],
   "source": [
    "#reshape to fit into model\n",
    "# X = X.reshape(*X.shape,1)\n",
    "# X.shape"
   ]
  },
  {
   "cell_type": "markdown",
   "metadata": {},
   "source": [
    "# Bring in entire data set"
   ]
  },
  {
   "cell_type": "code",
   "execution_count": 3,
   "metadata": {},
   "outputs": [
    {
     "data": {
      "text/plain": [
       "(669, 500, 400, 1)"
      ]
     },
     "execution_count": 3,
     "metadata": {},
     "output_type": "execute_result"
    }
   ],
   "source": [
    "# #y\n",
    "# y_list = []\n",
    "# for image in os.listdir('Data/y_variables/Unruled'):\n",
    "#     file='Data/y_variables/Unruled/'+ str(image)\n",
    "#     y_image = np.array(Image.open(file))\n",
    "#     y_image = y_image.reshape(*y_image.shape,1)\n",
    "#     y_list.append(y_image)\n",
    "                  \n",
    "# y = np.array(y_list)  \n",
    "# y.shape"
   ]
  },
  {
   "cell_type": "code",
   "execution_count": 36,
   "metadata": {},
   "outputs": [
    {
     "data": {
      "text/plain": [
       "(10, 500, 400, 1)"
      ]
     },
     "execution_count": 36,
     "metadata": {},
     "output_type": "execute_result"
    }
   ],
   "source": [
    "#y ONLY 10 IMAGES\n",
    "y_list = []\n",
    "for image in os.listdir('Data/y_variables/Unruled'):\n",
    "    file='Data/y_variables/Unruled/'+ str(image)\n",
    "    y_image = np.array(Image.open(file))\n",
    "    y_image = y_image.reshape(*y_image.shape, 1)\n",
    "    y_list.append(y_image)\n",
    "    if len(y_list) == 10:\n",
    "        break\n",
    "                  \n",
    "y = np.array(y_list)  \n",
    "y.shape"
   ]
  },
  {
   "cell_type": "code",
   "execution_count": 3,
   "metadata": {},
   "outputs": [],
   "source": [
    "# #X\n",
    "\n",
    "# X_list = []\n",
    "# for image in os.listdir('Data/X_variables/computer_generated_lines'):\n",
    "    \n",
    "#     file = 'Data/X_variables/computer_generated_lines/'+str(image)\n",
    "#     X_image = np.array(Image.open(file))\n",
    "#     X_image = X_image.reshape(*X_image.shape,1)\n",
    "#     X_list.append(X_image)\n",
    "    \n",
    "# X = np.array(X_list)\n",
    "# X.shape"
   ]
  },
  {
   "cell_type": "code",
   "execution_count": 35,
   "metadata": {},
   "outputs": [
    {
     "data": {
      "text/plain": [
       "(10, 500, 400, 1)"
      ]
     },
     "execution_count": 35,
     "metadata": {},
     "output_type": "execute_result"
    }
   ],
   "source": [
    "#X FIRST 10 IMAGES\n",
    "\n",
    "X_list = []\n",
    "for image in os.listdir('Data/X_variables/computer_generated_lines'):\n",
    "    \n",
    "    file = 'Data/X_variables/computer_generated_lines/'+str(image)\n",
    "    X_image = np.array(Image.open(file))\n",
    "    X_image = X_image.reshape(*X_image.shape, 1)\n",
    "    X_list.append(X_image)\n",
    "    if len(X_list) == 10:\n",
    "        break\n",
    "    \n",
    "X = np.array(X_list)\n",
    "X.shape"
   ]
  },
  {
   "cell_type": "code",
   "execution_count": null,
   "metadata": {},
   "outputs": [],
   "source": []
  },
  {
   "cell_type": "code",
   "execution_count": null,
   "metadata": {},
   "outputs": [],
   "source": []
  },
  {
   "cell_type": "code",
   "execution_count": 8,
   "metadata": {},
   "outputs": [
    {
     "data": {
      "text/plain": [
       "'2.3.0'"
      ]
     },
     "execution_count": 8,
     "metadata": {},
     "output_type": "execute_result"
    }
   ],
   "source": [
    "tf.__version__"
   ]
  },
  {
   "cell_type": "markdown",
   "metadata": {},
   "source": [
    "# 3 SELECTIONAL AUTOENCODER model\n",
    "Selectional Auto-Encoder (SAE)\n",
    "The hierarchy of layers of our SAE consists of a series of convolutional plus pooling layers, until an intermediate layer in which meaningful representations of the input are attained. As these layers are applied, filters are able to relate parts of the image that were initially far apart. It then follows a series of convolutional plus upsampling layers that reconstruct the image up to the same 200 input size. The last layer consists of a set of neurons with sigmoid activation that predict a value in the range of [0, 1], depending on the selectional level for the corresponding input feature. \n",
    "\n",
    "200 epochs maximum\n",
    "patience = 5\n",
    "used grid search to tune hyper parameters?\n",
    "batch size = 8\n",
    "results + F measure (F score?)\n",
    "\n"
   ]
  },
  {
   "cell_type": "code",
   "execution_count": 15,
   "metadata": {},
   "outputs": [
    {
     "ename": "NameError",
     "evalue": "name 'imput_img' is not defined",
     "output_type": "error",
     "traceback": [
      "\u001b[0;31m---------------------------------------------------------------------------\u001b[0m",
      "\u001b[0;31mNameError\u001b[0m                                 Traceback (most recent call last)",
      "\u001b[0;32m<ipython-input-15-c32bf3ebfebc>\u001b[0m in \u001b[0;36m<module>\u001b[0;34m\u001b[0m\n\u001b[1;32m      1\u001b[0m \u001b[0minput_img\u001b[0m \u001b[0;34m=\u001b[0m \u001b[0mimage_to_predict\u001b[0m\u001b[0;34m.\u001b[0m\u001b[0mreshape\u001b[0m\u001b[0;34m(\u001b[0m\u001b[0;34m*\u001b[0m\u001b[0mimage_to_predict\u001b[0m\u001b[0;34m.\u001b[0m\u001b[0mshape\u001b[0m\u001b[0;34m,\u001b[0m\u001b[0;36m1\u001b[0m\u001b[0;34m)\u001b[0m\u001b[0;31m# adapt this if using `channels_first` image data format\u001b[0m\u001b[0;34m\u001b[0m\u001b[0;34m\u001b[0m\u001b[0m\n\u001b[1;32m      2\u001b[0m \u001b[0minput_img\u001b[0m\u001b[0;34m.\u001b[0m\u001b[0mshape\u001b[0m\u001b[0;34m\u001b[0m\u001b[0;34m\u001b[0m\u001b[0m\n\u001b[0;32m----> 3\u001b[0;31m \u001b[0minput_img\u001b[0m \u001b[0;34m=\u001b[0m \u001b[0mimput_img\u001b[0m\u001b[0;34m.\u001b[0m\u001b[0mastype\u001b[0m\u001b[0;34m(\u001b[0m\u001b[0;34m'float'\u001b[0m\u001b[0;34m)\u001b[0m\u001b[0;34m\u001b[0m\u001b[0;34m\u001b[0m\u001b[0m\n\u001b[0m",
      "\u001b[0;31mNameError\u001b[0m: name 'imput_img' is not defined"
     ]
    }
   ],
   "source": [
    "# input_img = image_to_predict.reshape(*image_to_predict.shape,1)# adapt this if using `channels_first` image data format\n",
    "# input_img.shape\n"
   ]
  },
  {
   "cell_type": "code",
   "execution_count": null,
   "metadata": {},
   "outputs": [],
   "source": [
    "# input_img = Input(shape=(1,500,400)) \n",
    "\n",
    "# x = Conv2D(16, (3, 3), activation='relu', padding='same')(input_img)\n",
    "# x = MaxPooling2D((2, 2), padding='same')(x)\n",
    "# x = Conv2D(8, (3, 3), activation='relu', padding='same')(x)\n",
    "# x = MaxPooling2D((2, 2), padding='same')(x)\n",
    "# x = Conv2D(8, (3, 3), activation='relu', padding='same')(x)\n",
    "\n",
    "# x = Conv2D(16, (3, 3), activation='relu', padding='same')(x)\n",
    "# x = MaxPooling2D((2, 2), padding='same')(x)\n",
    "# x = Conv2D(8, (3, 3), activation='relu', padding='same')(x)\n",
    "# x = MaxPooling2D((2, 2), padding='same')(x)\n",
    "# x = Conv2D(8, (3, 3), activation='relu', padding='same')(x)\n",
    "# encoded = MaxPooling2D((2, 2), padding='same')(x)\n",
    "\n",
    "# # at this point the representation is (4, 4, 8) i.e. 128-dimensional\n",
    "\n",
    "# x = Conv2DTranspose(8, (3, 3), activation='relu', padding='same')(encoded)\n",
    "# x = UpSampling2D((2, 2))(x)\n",
    "# x = Conv2DTranspose(8, (3, 3), activation='relu', padding='same')(x)\n",
    "# x = UpSampling2D((2, 2))(x)\n",
    "# x = Conv2D(16, (3, 3), activation='relu')(x)\n",
    "# x = UpSampling2D((2, 2))(x)\n",
    "\n",
    "# x = Conv2D(8, (3, 3), activation='relu', padding='same')(encoded)\n",
    "# x = UpSampling2D((2, 2))(x)\n",
    "# x = Conv2D(8, (3, 3), activation='relu', padding='same')(x)\n",
    "# x = UpSampling2D((2, 2))(x)\n",
    "# x = Conv2D(16, (3, 3), activation='relu')(x)\n",
    "# x = UpSampling2D((2, 2))(x)\n",
    "\n",
    "# decoded = Conv2D(1, (3, 3), activation='sigmoid', padding='same')(x)\n",
    "\n",
    "# autoencoder = Model(input_img, decoded)\n",
    "# autoencoder.summary()\n",
    "\n"
   ]
  },
  {
   "cell_type": "code",
   "execution_count": 37,
   "metadata": {},
   "outputs": [
    {
     "name": "stdout",
     "output_type": "stream",
     "text": [
      "Model: \"functional_19\"\n",
      "_________________________________________________________________\n",
      "Layer (type)                 Output Shape              Param #   \n",
      "=================================================================\n",
      "input_11 (InputLayer)        [(None, 500, 400, 1)]     0         \n",
      "_________________________________________________________________\n",
      "conv2d_62 (Conv2D)           (None, 498, 398, 16)      160       \n",
      "_________________________________________________________________\n",
      "conv2d_63 (Conv2D)           (None, 496, 396, 8)       1160      \n",
      "_________________________________________________________________\n",
      "conv2d_64 (Conv2D)           (None, 494, 394, 8)       584       \n",
      "_________________________________________________________________\n",
      "conv2d_transpose_40 (Conv2DT (None, 496, 396, 8)       584       \n",
      "_________________________________________________________________\n",
      "conv2d_transpose_41 (Conv2DT (None, 498, 398, 16)      1168      \n",
      "_________________________________________________________________\n",
      "conv2d_transpose_42 (Conv2DT (None, 500, 400, 1)       145       \n",
      "=================================================================\n",
      "Total params: 3,801\n",
      "Trainable params: 3,801\n",
      "Non-trainable params: 0\n",
      "_________________________________________________________________\n"
     ]
    }
   ],
   "source": [
    "# #3.build the model\n",
    "\n",
    "\n",
    "input_img = Input(shape=(500,400,1)) \n",
    "\n",
    "x = Conv2D(16, (3, 3), activation='relu')(input_img)\n",
    "#x = MaxPooling2D((2, 2), padding='same')(x)\n",
    "#x = Conv2D(8, (3, 3), activation='relu', padding='same')(x)\n",
    "#x = MaxPooling2D((2, 2), padding='same')(x)\n",
    "#x = Conv2D(8, (3, 3), activation='relu', padding='same')(x)\n",
    "\n",
    "#x = Conv2D(16, (3, 3), activation='relu', padding='same')(x)\n",
    "#x = MaxPooling2D((2, 2), padding='same')(x)\n",
    "x = Conv2D(8, (3, 3), activation='relu')(x)\n",
    "#x = MaxPooling2D((2, 2), padding='same')(x)\n",
    "x = Conv2D(8, (3, 3), activation='relu')(x)\n",
    "encoded = MaxPooling2D((2, 2), padding='same')(x)\n",
    "\n",
    "# at this point the representation is (4, 4, 8) i.e. 128-dimensional\n",
    "\n",
    "x = Conv2DTranspose(8, (3, 3), activation='relu')(x)\n",
    "#x = UpSampling2D((2, 2))(x)\n",
    "#x = Conv2DTranspose(8, (3, 3), activation='relu')(x)\n",
    "#x = UpSampling2D((2, 2))(x)\n",
    "x = Conv2DTranspose(16, (3, 3), activation='relu')(x)\n",
    "#x = UpSampling2D((2, 2))(x)\n",
    "\n",
    "#x = Conv2DTranspose(8, (3, 3), activation='relu')(x)\n",
    "#x = UpSampling2D((2, 2))(x)\n",
    "#x = Conv2DTranspose(8, (3, 3), activation='relu')(x)\n",
    "#x = UpSampling2D((2, 2))(x)\n",
    "#x = Conv2DTranspose(16, (3, 3), activation='relu')(x)\n",
    "#x = UpSampling2D((2, 2))(x)\n",
    "\n",
    "decoded = Conv2DTranspose(1, (3, 3), activation='sigmoid')(x)\n",
    "\n",
    "autoencoder = Model(input_img, decoded)\n",
    "autoencoder.summary()\n",
    "\n"
   ]
  },
  {
   "cell_type": "code",
   "execution_count": 16,
   "metadata": {},
   "outputs": [
    {
     "data": {
      "text/plain": [
       "function"
      ]
     },
     "execution_count": 16,
     "metadata": {},
     "output_type": "execute_result"
    }
   ],
   "source": [
    "type(Input)"
   ]
  },
  {
   "cell_type": "code",
   "execution_count": 38,
   "metadata": {},
   "outputs": [],
   "source": [
    "#4 compile your model\n",
    "\n",
    "METRICS = [ metrics.CategoricalAccuracy(name='ACCURACY'),\n",
    "            metrics.AUC(name='AUC',curve='pr', multi_label=False),\n",
    "           metrics.SensitivityAtSpecificity(0.5, name='Sens@Spec'),\n",
    "           metrics.SpecificityAtSensitivity(0.5, name='Spec@Sens')]\n",
    "# new tensorflow\n",
    "# METRICS = [ metrics.Accuracy(name='ACCURACY'),\n",
    "#             metrics.AUC(name='AUC')]\n",
    "\n",
    "\n",
    "autoencoder.compile(optimizer='adam', loss='mse')\n",
    "# original copy autoencoder.compile(optimizer='adadelta', loss='binary_crossentropy')\n",
    "#model.compile(loss = 'mse', optimizer = 'adam', metrics=METRICS)\n"
   ]
  },
  {
   "cell_type": "code",
   "execution_count": 39,
   "metadata": {},
   "outputs": [],
   "source": [
    "#5 set up tensorboard\n",
    "\n",
    "#updated tensorboard\n",
    "# checkpoint_filepath = './tmp/checkpoint'\n",
    "# tensorboard = TensorBoard(log_dir=\"./logs\",\n",
    "#     histogram_freq=2,\n",
    "#     write_graph=True,\n",
    "#     write_images=True,\n",
    "#     update_freq=\"epoch\",\n",
    "#     profile_batch=2,\n",
    "#     embeddings_freq=0,\n",
    "#     embeddings_metadata=None)\n",
    "\n",
    "\n",
    "#old version\n",
    "# checkpoint_filepath = './tmp/checkpoint'\n",
    "# tensorboard = TensorBoard(log_dir=\"./logs\",\n",
    "#     write_graph=True,\n",
    "#     write_images=True)\n",
    "\n",
    "# updated tensorboard\n",
    "# early_stopping = EarlyStopping(monitor='loss', patience=10, restore_best_weights=True)\n",
    "# model_cp = ModelCheckpoint(filepath=checkpoint_filepath, save_best_only=True)\n",
    "\n",
    "\n",
    "#old version\n",
    "#model_cp = ModelCheckpoint(filepath=checkpoint_filepath)\n",
    "early_stopping = EarlyStopping(monitor='loss',patience=10)"
   ]
  },
  {
   "cell_type": "code",
   "execution_count": null,
   "metadata": {},
   "outputs": [],
   "source": []
  },
  {
   "cell_type": "code",
   "execution_count": 43,
   "metadata": {},
   "outputs": [
    {
     "name": "stdout",
     "output_type": "stream",
     "text": [
      "Epoch 1/10\n",
      "1/1 [==============================] - 0s 1ms/step - loss: 55491.4141\n",
      "Epoch 2/10\n",
      "1/1 [==============================] - 0s 1ms/step - loss: 55491.3750\n",
      "Epoch 3/10\n",
      "1/1 [==============================] - 0s 1ms/step - loss: 55491.3516\n",
      "Epoch 4/10\n",
      "1/1 [==============================] - 0s 990us/step - loss: 55491.3047\n",
      "Epoch 5/10\n",
      "1/1 [==============================] - 0s 2ms/step - loss: 55491.2734\n",
      "Epoch 6/10\n",
      "1/1 [==============================] - 0s 1ms/step - loss: 55491.2383\n",
      "Epoch 7/10\n",
      "1/1 [==============================] - 0s 1ms/step - loss: 55491.2109\n",
      "Epoch 8/10\n",
      "1/1 [==============================] - 0s 1ms/step - loss: 55491.1758\n",
      "Epoch 9/10\n",
      "1/1 [==============================] - 0s 2ms/step - loss: 55491.1367\n",
      "Epoch 10/10\n",
      "1/1 [==============================] - 0s 2ms/step - loss: 55491.1055\n"
     ]
    }
   ],
   "source": [
    "# for X in X_list:\n",
    "#     for y in y_list:\n",
    "\n",
    "#         model.fit(x=np.array([X]), y=np.array([y]), epochs = 500, verbose=1, callbacks=[tensorboard, early_stopping,  model_cp])\n",
    "\n",
    "# model.fit(x=X, y=y, epochs = 100, verbose=1, callbacks=[tensorboard, early_stopping,  model_cp])\n",
    "history = autoencoder.fit(x=X, y=y, epochs = 10, verbose=1, callbacks=[early_stopping])\n"
   ]
  },
  {
   "cell_type": "code",
   "execution_count": 45,
   "metadata": {},
   "outputs": [
    {
     "data": {
      "text/plain": [
       "[<matplotlib.lines.Line2D at 0x7fdd44b8be90>]"
      ]
     },
     "execution_count": 45,
     "metadata": {},
     "output_type": "execute_result"
    },
    {
     "data": {
      "image/png": "[encoded data removed]",
      "text/plain": [
       "<Figure size 432x288 with 1 Axes>"
      ]
     },
     "metadata": {
      "needs_background": "light"
     },
     "output_type": "display_data"
    }
   ],
   "source": [
    "plt.plot(history.history['loss'])"
   ]
  },
  {
   "cell_type": "code",
   "execution_count": 48,
   "metadata": {},
   "outputs": [
    {
     "data": {
      "text/plain": [
       "<matplotlib.image.AxesImage at 0x7fdd44b5ce90>"
      ]
     },
     "execution_count": 48,
     "metadata": {},
     "output_type": "execute_result"
    },
    {
     "data": {
      "image/png": "[encoded data removed]",
      "text/plain": [
       "<Figure size 432x288 with 1 Axes>"
      ]
     },
     "metadata": {
      "needs_background": "light"
     },
     "output_type": "display_data"
    }
   ],
   "source": [
    "plt.imshow(X[0,:,:,:].reshape(500,400))"
   ]
  },
  {
   "cell_type": "code",
   "execution_count": null,
   "metadata": {},
   "outputs": [],
   "source": [
    "# result = model.predict(np.array([X]))\n",
    "result = model.predict(np.array([image_to_predict.reshape(*image_to_predict.shape, 1)]))\n",
    "result = result.astype(np.uint8).reshape(500,400)\n",
    "Image.fromarray(result)"
   ]
  },
  {
   "cell_type": "code",
   "execution_count": null,
   "metadata": {},
   "outputs": [],
   "source": []
  },
  {
   "cell_type": "code",
   "execution_count": null,
   "metadata": {},
   "outputs": [],
   "source": []
  },
  {
   "cell_type": "code",
   "execution_count": null,
   "metadata": {},
   "outputs": [],
   "source": [
    "input_img = Input(shape=input_shape)\n",
    "x = Conv2D(256, 2, activation=\"swish\", padding=\"same\")(input_img)\n",
    "x = BatchNormalization()(x)\n",
    "x = Conv2D(128, 1, activation=\"swish\", padding=\"same\")(x)\n",
    "x = BatchNormalization()(x)\n",
    "x = MaxPooling2D(2, padding=\"same\")(x) \n",
    "x = Conv2D(64, 1, activation=\"linear\", padding=\"same\")(x)\n",
    "x = BatchNormalization()(x)\n",
    "encoded = MaxPooling2D(2, padding=\"same\")(x) \n",
    "x = Conv2D(64, 1, activation=\"relu\", padding=\"same\")(x)\n",
    "x = BatchNormalization()(x)\n",
    "# x = UpSampling2D(2)(x)\n",
    "# x = Dropout(0.5)(x)\n",
    "x = Conv2D(128, 1, activation=\"relu\", padding=\"same\")(x)\n",
    "x = BatchNormalization()(x)\n",
    "x = UpSampling2D(2)(x)\n",
    "x = Conv2D(256, 2, activation=\"relu\", padding=\"same\")(x)\n",
    "x = BatchNormalization()(x)\n",
    "decoded = Conv2D(1, 1, activation=\"linear\", padding='same')(x)\n",
    "autoencoder = Model(input_img, decoded)\n",
    "autoencoder.summary()"
   ]
  },
  {
   "cell_type": "code",
   "execution_count": null,
   "metadata": {},
   "outputs": [],
   "source": []
  },
  {
   "cell_type": "code",
   "execution_count": null,
   "metadata": {},
   "outputs": [],
   "source": []
  },
  {
   "cell_type": "code",
   "execution_count": null,
   "metadata": {},
   "outputs": [],
   "source": [
    "#next(X_train_generator).shape"
   ]
  },
  {
   "cell_type": "code",
   "execution_count": null,
   "metadata": {},
   "outputs": [],
   "source": [
    "#type(X_train_generator)"
   ]
  },
  {
   "cell_type": "code",
   "execution_count": null,
   "metadata": {},
   "outputs": [],
   "source": []
  },
  {
   "cell_type": "code",
   "execution_count": null,
   "metadata": {},
   "outputs": [],
   "source": []
  },
  {
   "cell_type": "code",
   "execution_count": null,
   "metadata": {},
   "outputs": [],
   "source": []
  },
  {
   "cell_type": "code",
   "execution_count": null,
   "metadata": {},
   "outputs": [],
   "source": [
    "#!tensorboard --logdir=logs\n"
   ]
  },
  {
   "cell_type": "code",
   "execution_count": null,
   "metadata": {},
   "outputs": [],
   "source": []
  },
  {
   "cell_type": "code",
   "execution_count": null,
   "metadata": {},
   "outputs": [],
   "source": []
  },
  {
   "cell_type": "code",
   "execution_count": null,
   "metadata": {},
   "outputs": [],
   "source": [
    "#to create all images with random line widths and depth - only need to do once\n",
    "\n",
    "# for image in os.listdir('Data/Unruled'):\n",
    "\n",
    "#     y=np.array((Image.open(f'Data/Unruled/{image}')))\n",
    "#     X = np.array(y)\n",
    "#     X[::40+np.random.randint(-20,20),:] = 80+np.random.randint(-60, 130)\n",
    "#     pil_X = Image.fromarray(X)\n",
    "#     pil_X.save(f'Data/computer_generated_lines/lined_{image}')\n"
   ]
  }
 ],
 "metadata": {
  "kernelspec": {
   "display_name": "Python 3",
   "language": "python",
   "name": "python3"
  },
  "language_info": {
   "codemirror_mode": {
    "name": "ipython",
    "version": 3
   },
   "file_extension": ".py",
   "mimetype": "text/x-python",
   "name": "python",
   "nbconvert_exporter": "python",
   "pygments_lexer": "ipython3",
   "version": "3.7.6"
  }
 },
 "nbformat": 4,
 "nbformat_minor": 4
}
